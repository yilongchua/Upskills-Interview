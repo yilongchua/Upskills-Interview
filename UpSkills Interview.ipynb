{
 "cells": [
  {
   "cell_type": "markdown",
   "metadata": {},
   "source": [
    "Qns 1"
   ]
  },
  {
   "cell_type": "code",
   "execution_count": 67,
   "metadata": {},
   "outputs": [
    {
     "name": "stdout",
     "output_type": "stream",
     "text": [
      "Output will be sum of 2 + 6 + 18 + 54 = 80\n"
     ]
    }
   ],
   "source": [
    "def geometric(a,r,n):\n",
    "    amt = 0\n",
    "    i = 0\n",
    "    ls = []\n",
    "    while i < n : \n",
    "        ls.append(a)\n",
    "        amt = amt + a \n",
    "        a = a * r \n",
    "        i = i + 1\n",
    "    word = (' + '.join(str(x) for x in ls))   \n",
    "    return print('Output will be sum of {} = {}'.format(word,amt))\n",
    "                 \n",
    "a = 2 \n",
    "r = 3 \n",
    "n = 4 \n",
    "          \n",
    "geometric(a, r, n)"
   ]
  },
  {
   "cell_type": "markdown",
   "metadata": {},
   "source": [
    "Qns 2"
   ]
  },
  {
   "cell_type": "code",
   "execution_count": 22,
   "metadata": {},
   "outputs": [],
   "source": [
    "def atm(withdraw, notes=[50,100,200,500]):\n",
    "    amt = None\n",
    "    if withdraw < min(notes):\n",
    "        print('Withdraw higher amount')\n",
    "    else:\n",
    "        for n in notes:\n",
    "            if n == withdraw: return n\n",
    "            if n < withdraw:\n",
    "                amt = n\n",
    "    balance = round(withdraw - amt,2)\n",
    "    print('money notes of {}'.format(amt))\n",
    "    return atm(balance)\n",
    "                "
   ]
  },
  {
   "cell_type": "code",
   "execution_count": 69,
   "metadata": {
    "scrolled": false
   },
   "outputs": [
    {
     "name": "stdout",
     "output_type": "stream",
     "text": [
      "500\n",
      "500\n",
      "500\n",
      "500\n",
      "500\n",
      "500\n",
      "200\n",
      "100\n"
     ]
    },
    {
     "data": {
      "text/plain": [
       "50"
      ]
     },
     "execution_count": 69,
     "metadata": {},
     "output_type": "execute_result"
    }
   ],
   "source": [
    "atm(3350)"
   ]
  },
  {
   "cell_type": "markdown",
   "metadata": {},
   "source": [
    "Qns 3"
   ]
  },
  {
   "cell_type": "code",
   "execution_count": 26,
   "metadata": {},
   "outputs": [],
   "source": [
    "def reverse(word):\n",
    "    length = len(word)\n",
    "    print(word[length::-1])"
   ]
  },
  {
   "cell_type": "code",
   "execution_count": 27,
   "metadata": {},
   "outputs": [
    {
     "name": "stdout",
     "output_type": "stream",
     "text": [
      "jhgfdsa\n"
     ]
    }
   ],
   "source": [
    "reverse('asdfghj')"
   ]
  },
  {
   "cell_type": "markdown",
   "metadata": {},
   "source": [
    "Qns 4"
   ]
  },
  {
   "cell_type": "code",
   "execution_count": 50,
   "metadata": {},
   "outputs": [],
   "source": [
    "from collections import Counter\n",
    "def word_counter(para):\n",
    "    ls = []\n",
    "    para = para.split()\n",
    "    count=Counter(para)\n",
    "    for key, value in count.items():\n",
    "        if value == max(count.values()):\n",
    "            ls.append(key)\n",
    "    print(ls)\n"
   ]
  },
  {
   "cell_type": "code",
   "execution_count": 51,
   "metadata": {},
   "outputs": [
    {
     "name": "stdout",
     "output_type": "stream",
     "text": [
      "['I', 'want', 'to']\n"
     ]
    }
   ],
   "source": [
    "test = 'I want to know how to achieve the things I want'\n",
    "word_counter(test)\n"
   ]
  },
  {
   "cell_type": "markdown",
   "metadata": {},
   "source": [
    "Qns 5"
   ]
  },
  {
   "cell_type": "code",
   "execution_count": 70,
   "metadata": {},
   "outputs": [
    {
     "name": "stdout",
     "output_type": "stream",
     "text": [
      "Height of tree is 3\n"
     ]
    }
   ],
   "source": [
    "def maxDepth(node): \n",
    "    if node is None: \n",
    "        return 0 ;  \n",
    "    else : \n",
    "        lDepth = maxDepth(node.left) \n",
    "        rDepth = maxDepth(node.right) \n",
    "        return(max(lDepth, rDepth) +1)\n",
    "  \n",
    "root = Node(1) \n",
    "root.left = Node(2) \n",
    "root.right = Node(3) \n",
    "root.left.left = Node(4) \n",
    "root.left.right = Node(5) \n",
    "  \n",
    "  \n",
    "print (\"Height of tree is %d\" %(maxDepth(root))) "
   ]
  }
 ],
 "metadata": {
  "kernelspec": {
   "display_name": "Python 3",
   "language": "python",
   "name": "python3"
  },
  "language_info": {
   "codemirror_mode": {
    "name": "ipython",
    "version": 3
   },
   "file_extension": ".py",
   "mimetype": "text/x-python",
   "name": "python",
   "nbconvert_exporter": "python",
   "pygments_lexer": "ipython3",
   "version": "3.7.3"
  },
  "toc": {
   "base_numbering": 1,
   "nav_menu": {},
   "number_sections": true,
   "sideBar": true,
   "skip_h1_title": false,
   "title_cell": "Table of Contents",
   "title_sidebar": "Contents",
   "toc_cell": false,
   "toc_position": {},
   "toc_section_display": true,
   "toc_window_display": false
  }
 },
 "nbformat": 4,
 "nbformat_minor": 2
}
